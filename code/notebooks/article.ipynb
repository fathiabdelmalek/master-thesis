{
 "cells": [
  {
   "cell_type": "code",
   "execution_count": 1,
   "metadata": {
    "collapsed": true
   },
   "outputs": [
    {
     "name": "stderr",
     "output_type": "stream",
     "text": [
      "2023-04-05 16:31:12.116404: I tensorflow/tsl/cuda/cudart_stub.cc:28] Could not find cuda drivers on your machine, GPU will not be used.\n",
      "2023-04-05 16:31:12.852641: I tensorflow/tsl/cuda/cudart_stub.cc:28] Could not find cuda drivers on your machine, GPU will not be used.\n",
      "2023-04-05 16:31:12.858539: I tensorflow/core/platform/cpu_feature_guard.cc:182] This TensorFlow binary is optimized to use available CPU instructions in performance-critical operations.\n",
      "To enable the following instructions: AVX2 FMA, in other operations, rebuild TensorFlow with the appropriate compiler flags.\n",
      "2023-04-05 16:31:16.529154: W tensorflow/compiler/tf2tensorrt/utils/py_utils.cc:38] TF-TRT Warning: Could not find TensorRT\n"
     ]
    }
   ],
   "source": [
    "from sklearn.model_selection import train_test_split\n",
    "from keras.models import Model, Sequential\n",
    "from keras.layers import Input, Dense, Flatten, Softmax, Conv1D, MaxPooling1D, BatchNormalization, GlobalAveragePooling1D, LSTM, concatenate\n",
    "from keras.utils import to_categorical\n",
    "from keras.losses import categorical_crossentropy\n",
    "from keras.metrics import Accuracy, Precision, Recall, SparseCategoricalAccuracy\n",
    "\n",
    "import numpy as np\n",
    "import pandas as pd\n",
    "import matplotlib.pyplot as plt"
   ]
  },
  {
   "cell_type": "code",
   "execution_count": 2,
   "outputs": [],
   "source": [
    "df = pd.read_csv('../data/test/dynamic/bad/021.csv', nrows=150)\n",
    "X = df[['flex_1', 'flex_2', 'flex_3', 'flex_4', 'flex_5', 'GYRx', 'GYRy', 'GYRz', 'ACCx', 'ACCy', 'ACCz']].values\n",
    "labels = df.iloc[:, -1]\n",
    "label_dict = {label: i for i, label in enumerate(sorted(set(labels)))}\n",
    "y = np.array([label_dict[label] for label in labels])\n",
    "y = to_categorical(y, num_classes=len(label_dict))"
   ],
   "metadata": {
    "collapsed": false
   }
  },
  {
   "cell_type": "code",
   "execution_count": 3,
   "outputs": [],
   "source": [
    "# Get the time interval between samples\n",
    "dt = np.mean(np.diff(df.index))\n",
    "\n",
    "# Calculate the velocity vectors\n",
    "vx = np.cumsum(df['ACCx'] * dt)\n",
    "vy = np.cumsum(df['ACCy'] * dt)\n",
    "vz = np.cumsum(df['ACCz'] * dt)\n",
    "\n",
    "# Calculate the displacement vectors\n",
    "dx = np.cumsum(vx * dt)\n",
    "dy = np.cumsum(vy * dt)\n",
    "dz = np.cumsum(vz * dt)\n",
    "\n",
    "# Combine the displacement vectors into a single array\n",
    "displacement_vectors = np.column_stack((dx, dy, dz))"
   ],
   "metadata": {
    "collapsed": false
   }
  },
  {
   "cell_type": "code",
   "execution_count": 4,
   "outputs": [
    {
     "data": {
      "text/plain": "<Figure size 640x480 with 1 Axes>",
      "image/png": "[encoded data removed]"
     },
     "metadata": {},
     "output_type": "display_data"
    }
   ],
   "source": [
    "# Assuming you have a list of 3D displacement vectors called `displacement_vectors`\n",
    "xy_projection = [(d[0], d[1]) for d in displacement_vectors]\n",
    "yz_projection = [(d[1], d[2]) for d in displacement_vectors]\n",
    "zx_projection = [(d[2], d[0]) for d in displacement_vectors]\n",
    "\n",
    "# Plot the projections\n",
    "plt.plot(*zip(*xy_projection), linewidth=7, color='black')\n",
    "plt.savefig('xy_projection.png')\n",
    "plt.plot(*zip(*yz_projection), linewidth=7, color='black')\n",
    "plt.savefig('yz_projection.png')\n",
    "plt.plot(*zip(*zx_projection), linewidth=7, color='black')\n",
    "plt.savefig('zx_projection.png')"
   ],
   "metadata": {
    "collapsed": false
   }
  },
  {
   "cell_type": "code",
   "execution_count": 5,
   "outputs": [],
   "source": [
    "image = plt.imread('xy_projection.png')\n",
    "normalized_image = (image - np.min(image)) / (np.max(image) - np.min(image))"
   ],
   "metadata": {
    "collapsed": false
   }
  },
  {
   "cell_type": "code",
   "execution_count": 6,
   "outputs": [
    {
     "name": "stdout",
     "output_type": "stream",
     "text": [
      "(150, 11)\n",
      "(150, 1)\n"
     ]
    }
   ],
   "source": [
    "print(X.shape)\n",
    "print(y.shape)"
   ],
   "metadata": {
    "collapsed": false
   }
  },
  {
   "cell_type": "code",
   "execution_count": 7,
   "outputs": [],
   "source": [
    "# model = Sequential()\n",
    "# model.add(Conv1D(32, (3, 3), activation='relu', input_shape=(224, 224, 1)))\n",
    "# model.add(MaxPooling1D((2, 2)))\n",
    "# model.add(Conv1D(64, (3, 3), activation='relu'))\n",
    "# model.add(MaxPooling1D((2, 2)))\n",
    "# model.add(Conv1D(128, (3, 3), activation='relu'))\n",
    "# model.add(MaxPooling1D((2, 2)))\n",
    "# model.add(Flatten())\n",
    "# model.add(Dense(128, activation='relu'))\n",
    "# model.add(Dense(40, activation='softmax'))\n",
    "\n",
    "flex1 = Input(shape=(150, 1), name='flex1')\n",
    "flex2 = Input(shape=(150, 1), name='flex2')\n",
    "flex3 = Input(shape=(150, 1), name='flex3')\n",
    "flex4 = Input(shape=(150, 1), name='flex4')\n",
    "flex5 = Input(shape=(150, 1), name='flex5')\n",
    "accx = Input(shape=(150, 1), name='accx')\n",
    "accy = Input(shape=(150, 1), name='accy')\n",
    "accz = Input(shape=(150, 1), name='accz')\n",
    "gyrx = Input(shape=(150, 1), name='gyrx')\n",
    "gyry = Input(shape=(150, 1), name='gyry')\n",
    "gyrz = Input(shape=(150, 1), name='gyrz')\n",
    "\n",
    "conv1_flex1 = Conv1D(filters=8, kernel_size=3, strides=1, padding='same', activation='relu', name='conv1_flex1')(flex1)\n",
    "conv1_flex2 = Conv1D(filters=8, kernel_size=3, strides=1, padding='same', activation='relu', name='conv1_flex2')(flex2)\n",
    "conv1_flex3 = Conv1D(filters=8, kernel_size=3, strides=1, padding='same', activation='relu', name='conv1_flex3')(flex3)\n",
    "conv1_flex4 = Conv1D(filters=8, kernel_size=3, strides=1, padding='same', activation='relu', name='conv1_flex4')(flex4)\n",
    "conv1_flex5 = Conv1D(filters=8, kernel_size=3, strides=1, padding='same', activation='relu', name='conv1_flex5')(flex5)\n",
    "conv1_accx = Conv1D(filters=8, kernel_size=3, strides=1, padding='same', activation='relu', name='conv1_accx')(accx)\n",
    "conv1_accy = Conv1D(filters=8, kernel_size=3, strides=1, padding='same', activation='relu', name='conv1_accy')(accy)\n",
    "conv1_accz = Conv1D(filters=8, kernel_size=3, strides=1, padding='same', activation='relu', name='conv1_accz')(accz)\n",
    "conv1_gyrx = Conv1D(filters=8, kernel_size=3, strides=1, padding='same', activation='relu', name='conv1_gyrx')(gyrx)\n",
    "conv1_gyry = Conv1D(filters=8, kernel_size=3, strides=1, padding='same', activation='relu', name='conv1_gyry')(gyry)\n",
    "conv1_gyrz = Conv1D(filters=8, kernel_size=3, strides=1, padding='same', activation='relu', name='conv1_gyrz')(gyrz)\n",
    "\n",
    "conv2_flex1 = Conv1D(filters=16, kernel_size=3, strides=1, padding='same', activation='relu', name='conv2_flex1')(conv1_flex1)\n",
    "conv2_flex2 = Conv1D(filters=16, kernel_size=3, strides=1, padding='same', activation='relu', name='conv2_flex2')(conv1_flex2)\n",
    "conv2_flex3 = Conv1D(filters=16, kernel_size=3, strides=1, padding='same', activation='relu', name='conv2_flex3')(conv1_flex3)\n",
    "conv2_flex4 = Conv1D(filters=16, kernel_size=3, strides=1, padding='same', activation='relu', name='conv2_flex4')(conv1_flex4)\n",
    "conv2_flex5 = Conv1D(filters=16, kernel_size=3, strides=1, padding='same', activation='relu', name='conv2_flex5')(conv1_flex5)\n",
    "conv2_accx = Conv1D(filters=16, kernel_size=3, strides=1, padding='same', activation='relu', name='conv2_accx')(conv1_accx)\n",
    "conv2_accy = Conv1D(filters=16, kernel_size=3, strides=1, padding='same', activation='relu', name='conv2_accy')(conv1_accy)\n",
    "conv2_accz = Conv1D(filters=16, kernel_size=3, strides=1, padding='same', activation='relu', name='conv2_accz')(conv1_accz)\n",
    "conv2_gyrx = Conv1D(filters=16, kernel_size=3, strides=1, padding='same', activation='relu', name='conv2_gyrx')(conv1_gyrx)\n",
    "conv2_gyry = Conv1D(filters=16, kernel_size=3, strides=1, padding='same', activation='relu', name='conv2_gyry')(conv1_gyry)\n",
    "conv2_gyrz = Conv1D(filters=16, kernel_size=3, strides=1, padding='same', activation='relu', name='conv2_gyrz')(conv1_gyrz)\n",
    "\n",
    "batch1_flex1 = BatchNormalization(name='batch1_flex1')(conv2_flex1)\n",
    "batch1_flex2 = BatchNormalization(name='batch1_flex2')(conv2_flex2)\n",
    "batch1_flex3 = BatchNormalization(name='batch1_flex3')(conv2_flex3)\n",
    "batch1_flex4 = BatchNormalization(name='batch1_flex4')(conv2_flex4)\n",
    "batch1_flex5 = BatchNormalization(name='batch1_flex5')(conv2_flex5)\n",
    "batch1_accx = BatchNormalization(name='batch1_accx')(conv2_accx)\n",
    "batch1_accy = BatchNormalization(name='batch1_accy')(conv2_accy)\n",
    "batch1_accz = BatchNormalization(name='batch1_accz')(conv2_accz)\n",
    "batch1_gyrx = BatchNormalization(name='batch1_gyrx')(conv2_gyrx)\n",
    "batch1_gyry = BatchNormalization(name='batch1_gyry')(conv2_gyry)\n",
    "batch1_gyrz = BatchNormalization(name='batch1_gyrz')(conv2_gyrz)\n",
    "\n",
    "maxpool1_flex1 = MaxPooling1D(pool_size=2, name='maxpool1_flex1')(batch1_flex1)\n",
    "maxpool1_flex2 = MaxPooling1D(pool_size=2, name='maxpool1_flex2')(batch1_flex2)\n",
    "maxpool1_flex3 = MaxPooling1D(pool_size=2, name='maxpool1_flex3')(batch1_flex3)\n",
    "maxpool1_flex4 = MaxPooling1D(pool_size=2, name='maxpool1_flex4')(batch1_flex4)\n",
    "maxpool1_flex5 = MaxPooling1D(pool_size=2, name='maxpool1_flex5')(batch1_flex5)\n",
    "maxpool1_accx = MaxPooling1D(pool_size=2, name='maxpool1_accx')(batch1_accx)\n",
    "maxpool1_accy = MaxPooling1D(pool_size=2, name='maxpool1_accy')(batch1_accy)\n",
    "maxpool1_accz = MaxPooling1D(pool_size=2, name='maxpool1_accz')(batch1_accz)\n",
    "maxpool1_gyrx = MaxPooling1D(pool_size=2, name='maxpool1_gyrx')(batch1_gyrx)\n",
    "maxpool1_gyry = MaxPooling1D(pool_size=2, name='maxpool1_gyry')(batch1_gyry)\n",
    "maxpool1_gyrz = MaxPooling1D(pool_size=2, name='maxpool1_gyrz')(batch1_gyrz)\n",
    "\n",
    "conv3_flex1 = Conv1D(filters=16, kernel_size=3, strides=1, padding='same', activation='relu', name='conv3_flex1')(maxpool1_flex1)\n",
    "conv3_flex2 = Conv1D(filters=16, kernel_size=3, strides=1, padding='same', activation='relu', name='conv3_flex2')(maxpool1_flex2)\n",
    "conv3_flex3 = Conv1D(filters=16, kernel_size=3, strides=1, padding='same', activation='relu', name='conv3_flex3')(maxpool1_flex3)\n",
    "conv3_flex4 = Conv1D(filters=16, kernel_size=3, strides=1, padding='same', activation='relu', name='conv3_flex4')(maxpool1_flex4)\n",
    "conv3_flex5 = Conv1D(filters=16, kernel_size=3, strides=1, padding='same', activation='relu', name='conv3_flex5')(maxpool1_flex5)\n",
    "conv3_accx = Conv1D(filters=16, kernel_size=3, strides=1, padding='same', activation='relu', name='conv3_accx')(maxpool1_accx)\n",
    "conv3_accy = Conv1D(filters=16, kernel_size=3, strides=1, padding='same', activation='relu', name='conv3_accy')(maxpool1_accy)\n",
    "conv3_accz = Conv1D(filters=16, kernel_size=3, strides=1, padding='same', activation='relu', name='conv3_accz')(maxpool1_accz)\n",
    "conv3_gyrx = Conv1D(filters=16, kernel_size=3, strides=1, padding='same', activation='relu', name='conv3_gyrx')(maxpool1_gyrx)\n",
    "conv3_gyry = Conv1D(filters=16, kernel_size=3, strides=1, padding='same', activation='relu', name='conv3_gyry')(maxpool1_gyry)\n",
    "conv3_gyrz = Conv1D(filters=16, kernel_size=3, strides=1, padding='same', activation='relu', name='conv3_gyrz')(maxpool1_gyrz)\n",
    "\n",
    "conv4_flex1 = Conv1D(filters=16, kernel_size=3, strides=1, padding='same', activation='relu', name='conv4_flex1')(conv3_flex1)\n",
    "conv4_flex2 = Conv1D(filters=16, kernel_size=3, strides=1, padding='same', activation='relu', name='conv4_flex2')(conv3_flex2)\n",
    "conv4_flex3 = Conv1D(filters=16, kernel_size=3, strides=1, padding='same', activation='relu', name='conv4_flex3')(conv3_flex3)\n",
    "conv4_flex4 = Conv1D(filters=16, kernel_size=3, strides=1, padding='same', activation='relu', name='conv4_flex4')(conv3_flex4)\n",
    "conv4_flex5 = Conv1D(filters=16, kernel_size=3, strides=1, padding='same', activation='relu', name='conv4_flex5')(conv3_flex5)\n",
    "conv4_accx = Conv1D(filters=16, kernel_size=3, strides=1, padding='same', activation='relu', name='conv4_accx')(conv3_accx)\n",
    "conv4_accy = Conv1D(filters=16, kernel_size=3, strides=1, padding='same', activation='relu', name='conv4_accy')(conv3_accy)\n",
    "conv4_accz = Conv1D(filters=16, kernel_size=3, strides=1, padding='same', activation='relu', name='conv4_accz')(conv3_accz)\n",
    "conv4_gyrx = Conv1D(filters=16, kernel_size=3, strides=1, padding='same', activation='relu', name='conv4_gyrx')(conv3_gyrx)\n",
    "conv4_gyry = Conv1D(filters=16, kernel_size=3, strides=1, padding='same', activation='relu', name='conv4_gyry')(conv3_gyry)\n",
    "conv4_gyrz = Conv1D(filters=16, kernel_size=3, strides=1, padding='same', activation='relu', name='conv4_gyrz')(conv3_gyrz)\n",
    "\n",
    "batch2_flex1 = BatchNormalization(name='batch2_flex1')(conv4_flex1)\n",
    "batch2_flex2 = BatchNormalization(name='batch2_flex2')(conv4_flex2)\n",
    "batch2_flex3 = BatchNormalization(name='batch2_flex3')(conv4_flex3)\n",
    "batch2_flex4 = BatchNormalization(name='batch2_flex4')(conv4_flex4)\n",
    "batch2_flex5 = BatchNormalization(name='batch2_flex5')(conv4_flex5)\n",
    "batch2_accx = BatchNormalization(name='batch2_accx')(conv4_accx)\n",
    "batch2_accy = BatchNormalization(name='batch2_accy')(conv4_accy)\n",
    "batch2_accz = BatchNormalization(name='batch2_accz')(conv4_accz)\n",
    "batch2_gyrx = BatchNormalization(name='batch2_gyrx')(conv4_gyrx)\n",
    "batch2_gyry = BatchNormalization(name='batch2_gyry')(conv4_gyry)\n",
    "batch2_gyrz = BatchNormalization(name='batch2_gyrz')(conv4_gyrz)\n",
    "\n",
    "maxpool2_flex1 = MaxPooling1D(pool_size=2, name='maxpool2_flex1')(batch2_flex1)\n",
    "maxpool2_flex2 = MaxPooling1D(pool_size=2, name='maxpool2_flex2')(batch2_flex2)\n",
    "maxpool2_flex3 = MaxPooling1D(pool_size=2, name='maxpool2_flex3')(batch2_flex3)\n",
    "maxpool2_flex4 = MaxPooling1D(pool_size=2, name='maxpool2_flex4')(batch2_flex4)\n",
    "maxpool2_flex5 = MaxPooling1D(pool_size=2, name='maxpool2_flex5')(batch2_flex5)\n",
    "maxpool2_accx = MaxPooling1D(pool_size=2, name='maxpool2_accx')(batch2_accx)\n",
    "maxpool2_accy = MaxPooling1D(pool_size=2, name='maxpool2_accy')(batch2_accy)\n",
    "maxpool2_accz = MaxPooling1D(pool_size=2, name='maxpool2_accz')(batch2_accz)\n",
    "maxpool2_gyrx = MaxPooling1D(pool_size=2, name='maxpool2_gyrx')(batch2_gyrx)\n",
    "maxpool2_gyry = MaxPooling1D(pool_size=2, name='maxpool2_gyry')(batch2_gyry)\n",
    "maxpool2_gyrz = MaxPooling1D(pool_size=2, name='maxpool2_gyrz')(batch2_gyrz)\n",
    "\n",
    "# merged = concatenate([maxpool2_flex1, maxpool2_flex2, maxpool2_flex3, maxpool2_flex4, maxpool2_flex5])\n",
    "merged = concatenate([maxpool2_flex1, maxpool2_flex2, maxpool2_flex3, maxpool2_flex4, maxpool2_flex5, maxpool2_accx, maxpool2_accy, maxpool2_accz, maxpool2_gyrx, maxpool2_gyry])\n",
    "# merged = concatenate([maxpool2_flex1, maxpool2_flex2, maxpool2_flex3, maxpool2_flex4, maxpool2_flex5, maxpool2_accx, maxpool2_accy, maxpool2_accz, maxpool2_gyrx, maxpool2_gyry, maxpool2_gyrz])\n",
    "dense = Dense(544)(merged)\n",
    "# dense = Dense(544)(maxpool2_flex1)\n",
    "output = Dense(50, activation='softmax')(dense)\n",
    "\n",
    "# model = Model(inputs=[flex1, flex2, flex3, flex4, flex5], outputs=output)\n",
    "model = Model(inputs=[flex1, flex2, flex3, flex4, flex5, accx, accy, accz, gyrx, gyry, gyrz], outputs=output)\n",
    "# model = Model(inputs=flex1, outputs=output)\n",
    "\n",
    "# model.compile(optimizer=Adam, loss=categorical_crossentropy, metrics=['accuracy'])\n",
    "model.compile(optimizer='adam', loss=categorical_crossentropy, metrics=[Accuracy(), Precision(), Recall(), SparseCategoricalAccuracy()])\n",
    "model.save('../models/test.h5')"
   ],
   "metadata": {
    "collapsed": false
   }
  },
  {
   "cell_type": "code",
   "execution_count": 8,
   "outputs": [
    {
     "name": "stdout",
     "output_type": "stream",
     "text": [
      "Epoch 1/10\n"
     ]
    },
    {
     "ename": "ValueError",
     "evalue": "in user code:\n\n    File \"/home/fathi/dev/thesis/code/venv/lib64/python3.11/site-packages/keras/engine/training.py\", line 1284, in train_function  *\n        return step_function(self, iterator)\n    File \"/home/fathi/dev/thesis/code/venv/lib64/python3.11/site-packages/keras/engine/training.py\", line 1268, in step_function  **\n        outputs = model.distribute_strategy.run(run_step, args=(data,))\n    File \"/home/fathi/dev/thesis/code/venv/lib64/python3.11/site-packages/keras/engine/training.py\", line 1249, in run_step  **\n        outputs = model.train_step(data)\n    File \"/home/fathi/dev/thesis/code/venv/lib64/python3.11/site-packages/keras/engine/training.py\", line 1050, in train_step\n        y_pred = self(x, training=True)\n    File \"/home/fathi/dev/thesis/code/venv/lib64/python3.11/site-packages/keras/utils/traceback_utils.py\", line 70, in error_handler\n        raise e.with_traceback(filtered_tb) from None\n    File \"/home/fathi/dev/thesis/code/venv/lib64/python3.11/site-packages/keras/engine/input_spec.py\", line 219, in assert_input_compatibility\n        raise ValueError(\n\n    ValueError: Layer \"model\" expects 11 input(s), but it received 10 input tensors. Inputs received: [<tf.Tensor 'IteratorGetNext:0' shape=(None,) dtype=float32>, <tf.Tensor 'IteratorGetNext:1' shape=(None,) dtype=float32>, <tf.Tensor 'IteratorGetNext:2' shape=(None,) dtype=float32>, <tf.Tensor 'IteratorGetNext:3' shape=(None,) dtype=float32>, <tf.Tensor 'IteratorGetNext:4' shape=(None,) dtype=float32>, <tf.Tensor 'IteratorGetNext:5' shape=(None,) dtype=float32>, <tf.Tensor 'IteratorGetNext:6' shape=(None,) dtype=float32>, <tf.Tensor 'IteratorGetNext:7' shape=(None,) dtype=float32>, <tf.Tensor 'IteratorGetNext:8' shape=(None,) dtype=float32>, <tf.Tensor 'IteratorGetNext:9' shape=(None,) dtype=float32>]\n",
     "output_type": "error",
     "traceback": [
      "\u001B[0;31m---------------------------------------------------------------------------\u001B[0m",
      "\u001B[0;31mValueError\u001B[0m                                Traceback (most recent call last)",
      "Cell \u001B[0;32mIn[8], line 1\u001B[0m\n\u001B[0;32m----> 1\u001B[0m \u001B[43mmodel\u001B[49m\u001B[38;5;241;43m.\u001B[39;49m\u001B[43mfit\u001B[49m\u001B[43m(\u001B[49m\u001B[43m[\u001B[49m\u001B[43mX\u001B[49m\u001B[43m[\u001B[49m\u001B[43m:\u001B[49m\u001B[43m,\u001B[49m\u001B[43m \u001B[49m\u001B[43mi\u001B[49m\u001B[43m]\u001B[49m\u001B[43m \u001B[49m\u001B[38;5;28;43;01mfor\u001B[39;49;00m\u001B[43m \u001B[49m\u001B[43mi\u001B[49m\u001B[43m \u001B[49m\u001B[38;5;129;43;01min\u001B[39;49;00m\u001B[43m \u001B[49m\u001B[38;5;28;43mrange\u001B[39;49m\u001B[43m(\u001B[49m\u001B[38;5;241;43m10\u001B[39;49m\u001B[43m)\u001B[49m\u001B[43m]\u001B[49m\u001B[43m,\u001B[49m\u001B[43m \u001B[49m\u001B[43my\u001B[49m\u001B[43m,\u001B[49m\u001B[43m \u001B[49m\u001B[43mepochs\u001B[49m\u001B[38;5;241;43m=\u001B[39;49m\u001B[38;5;241;43m10\u001B[39;49m\u001B[43m)\u001B[49m\n",
      "File \u001B[0;32m~/dev/thesis/code/venv/lib64/python3.11/site-packages/keras/utils/traceback_utils.py:70\u001B[0m, in \u001B[0;36mfilter_traceback.<locals>.error_handler\u001B[0;34m(*args, **kwargs)\u001B[0m\n\u001B[1;32m     67\u001B[0m     filtered_tb \u001B[38;5;241m=\u001B[39m _process_traceback_frames(e\u001B[38;5;241m.\u001B[39m__traceback__)\n\u001B[1;32m     68\u001B[0m     \u001B[38;5;66;03m# To get the full stack trace, call:\u001B[39;00m\n\u001B[1;32m     69\u001B[0m     \u001B[38;5;66;03m# `tf.debugging.disable_traceback_filtering()`\u001B[39;00m\n\u001B[0;32m---> 70\u001B[0m     \u001B[38;5;28;01mraise\u001B[39;00m e\u001B[38;5;241m.\u001B[39mwith_traceback(filtered_tb) \u001B[38;5;28;01mfrom\u001B[39;00m \u001B[38;5;28mNone\u001B[39m\n\u001B[1;32m     71\u001B[0m \u001B[38;5;28;01mfinally\u001B[39;00m:\n\u001B[1;32m     72\u001B[0m     \u001B[38;5;28;01mdel\u001B[39;00m filtered_tb\n",
      "File \u001B[0;32m/tmp/__autograph_generated_file1ai9sp6k.py:15\u001B[0m, in \u001B[0;36mouter_factory.<locals>.inner_factory.<locals>.tf__train_function\u001B[0;34m(iterator)\u001B[0m\n\u001B[1;32m     13\u001B[0m \u001B[38;5;28;01mtry\u001B[39;00m:\n\u001B[1;32m     14\u001B[0m     do_return \u001B[38;5;241m=\u001B[39m \u001B[38;5;28;01mTrue\u001B[39;00m\n\u001B[0;32m---> 15\u001B[0m     retval_ \u001B[38;5;241m=\u001B[39m ag__\u001B[38;5;241m.\u001B[39mconverted_call(ag__\u001B[38;5;241m.\u001B[39mld(step_function), (ag__\u001B[38;5;241m.\u001B[39mld(\u001B[38;5;28mself\u001B[39m), ag__\u001B[38;5;241m.\u001B[39mld(iterator)), \u001B[38;5;28;01mNone\u001B[39;00m, fscope)\n\u001B[1;32m     16\u001B[0m \u001B[38;5;28;01mexcept\u001B[39;00m:\n\u001B[1;32m     17\u001B[0m     do_return \u001B[38;5;241m=\u001B[39m \u001B[38;5;28;01mFalse\u001B[39;00m\n",
      "\u001B[0;31mValueError\u001B[0m: in user code:\n\n    File \"/home/fathi/dev/thesis/code/venv/lib64/python3.11/site-packages/keras/engine/training.py\", line 1284, in train_function  *\n        return step_function(self, iterator)\n    File \"/home/fathi/dev/thesis/code/venv/lib64/python3.11/site-packages/keras/engine/training.py\", line 1268, in step_function  **\n        outputs = model.distribute_strategy.run(run_step, args=(data,))\n    File \"/home/fathi/dev/thesis/code/venv/lib64/python3.11/site-packages/keras/engine/training.py\", line 1249, in run_step  **\n        outputs = model.train_step(data)\n    File \"/home/fathi/dev/thesis/code/venv/lib64/python3.11/site-packages/keras/engine/training.py\", line 1050, in train_step\n        y_pred = self(x, training=True)\n    File \"/home/fathi/dev/thesis/code/venv/lib64/python3.11/site-packages/keras/utils/traceback_utils.py\", line 70, in error_handler\n        raise e.with_traceback(filtered_tb) from None\n    File \"/home/fathi/dev/thesis/code/venv/lib64/python3.11/site-packages/keras/engine/input_spec.py\", line 219, in assert_input_compatibility\n        raise ValueError(\n\n    ValueError: Layer \"model\" expects 11 input(s), but it received 10 input tensors. Inputs received: [<tf.Tensor 'IteratorGetNext:0' shape=(None,) dtype=float32>, <tf.Tensor 'IteratorGetNext:1' shape=(None,) dtype=float32>, <tf.Tensor 'IteratorGetNext:2' shape=(None,) dtype=float32>, <tf.Tensor 'IteratorGetNext:3' shape=(None,) dtype=float32>, <tf.Tensor 'IteratorGetNext:4' shape=(None,) dtype=float32>, <tf.Tensor 'IteratorGetNext:5' shape=(None,) dtype=float32>, <tf.Tensor 'IteratorGetNext:6' shape=(None,) dtype=float32>, <tf.Tensor 'IteratorGetNext:7' shape=(None,) dtype=float32>, <tf.Tensor 'IteratorGetNext:8' shape=(None,) dtype=float32>, <tf.Tensor 'IteratorGetNext:9' shape=(None,) dtype=float32>]\n"
     ]
    }
   ],
   "source": [
    "model.fit([X[:, i] for i in range(10)], y, epochs=10)"
   ],
   "metadata": {
    "collapsed": false
   }
  },
  {
   "cell_type": "code",
   "execution_count": null,
   "outputs": [],
   "source": [],
   "metadata": {
    "collapsed": false
   }
  }
 ],
 "metadata": {
  "kernelspec": {
   "display_name": "Python 3",
   "language": "python",
   "name": "python3"
  },
  "language_info": {
   "codemirror_mode": {
    "name": "ipython",
    "version": 2
   },
   "file_extension": ".py",
   "mimetype": "text/x-python",
   "name": "python",
   "nbconvert_exporter": "python",
   "pygments_lexer": "ipython2",
   "version": "2.7.6"
  }
 },
 "nbformat": 4,
 "nbformat_minor": 0
}
