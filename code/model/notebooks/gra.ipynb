{
 "cells": [
  {
   "cell_type": "code",
   "execution_count": null,
   "metadata": {
    "collapsed": true
   },
   "outputs": [],
   "source": [
    "import time\n",
    "import math\n",
    "import pandas as pd\n",
    "import numpy as np"
   ]
  },
  {
   "cell_type": "code",
   "execution_count": 2,
   "outputs": [
    {
     "name": "stdout",
     "output_type": "stream",
     "text": [
      "   flex_1  flex_2  flex_3  flex_4  flex_5  GYRx  GYRy      GYRz      ACCx  \\\n",
      "0   -24.0   -37.0   -34.0   -45.0   -32.0   0.0   0.0 -0.007634  8.485278   \n",
      "\n",
      "       ACCy      ACCz  \n",
      "0  3.853247 -3.495557  \n",
      "[8.485278] [3.853247] [-3.495557] [0.] [0.] [-0.007634]\n"
     ]
    }
   ],
   "source": [
    "df = pd.read_csv('../data/test/dynamic/bad/021.csv', nrows=1)\n",
    "print(df[['flex_1', 'flex_2', 'flex_3', 'flex_4', 'flex_5', 'GYRx', 'GYRy', 'GYRz', 'ACCx', 'ACCy', 'ACCz']])\n",
    "Ax = df['ACCx'].values\n",
    "Ay = df['ACCy'].values\n",
    "Az = df['ACCz'].values\n",
    "Gx = df['GYRx'].values\n",
    "Gy = df['GYRy'].values\n",
    "Gz = df['GYRz'].values\n",
    "print(Ax, Ay, Az, Gx, Gy, Gz)\n",
    "# dt = 0.01\n",
    "# alpha = 0.98\n",
    "# roll = 0\n",
    "# pitch = 0\n",
    "# yaw = 0"
   ],
   "metadata": {
    "collapsed": false
   }
  },
  {
   "cell_type": "code",
   "execution_count": 3,
   "outputs": [],
   "source": [
    "# pitch = -math.asin(Ax / math.sqrt(Ay ** 2 + Az ** 2))\n",
    "pitch_numerator = -Ax\n",
    "pitch_denominator = math.sqrt(Ay ** 2 + Az ** 2)\n",
    "if abs(pitch_denominator) > abs(pitch_numerator):\n",
    "    pitch = -math.asin(pitch_numerator / pitch_denominator)\n",
    "else:\n",
    "    pitch = math.copysign(math.pi / 2, pitch_numerator)\n",
    "roll = math.atan2(Ay, Az)\n",
    "yaw = math.atan2(Ax * math.cos(roll) + Az * math.sin(roll), Ay * math.cos(pitch) + Ax * math.sin(pitch) * math.sin(roll) + Az * math.sin(pitch) * math.cos(roll))\n",
    "\n",
    "qw = math.cos(yaw/2)*math.cos(roll/2)*math.cos(pitch/2) + math.sin(yaw/2)*math.sin(roll/2)*math.sin(pitch/2)\n",
    "qx = math.cos(yaw/2)*math.sin(roll/2)*math.cos(pitch/2) - math.sin(yaw/2)*math.cos(roll/2)*math.sin(pitch/2)\n",
    "qy = math.cos(yaw/2)*math.cos(roll/2)*math.sin(pitch/2) + math.sin(yaw/2)*math.sin(roll/2)*math.cos(pitch/2)\n",
    "qz = math.sin(yaw/2)*math.cos(roll/2)*math.cos(pitch/2) - math.cos(yaw/2)*math.sin(roll/2)*math.sin(pitch/2)"
   ],
   "metadata": {
    "collapsed": false
   }
  },
  {
   "cell_type": "code",
   "execution_count": 4,
   "outputs": [
    {
     "name": "stdout",
     "output_type": "stream",
     "text": [
      "         Qw        Qx        Qy        Qz\n",
      "0  0.570862  0.360413 -0.737488  0.017883\n",
      "0.7066871849238512 -0.02435616276022351 -0.7066871849238512 -0.024356162760223538\n"
     ]
    }
   ],
   "source": [
    "print(df[['Qw', 'Qx', 'Qy', 'Qz']])\n",
    "print(qw, qx, qy, qz)"
   ],
   "metadata": {
    "collapsed": false
   }
  },
  {
   "cell_type": "code",
   "execution_count": null,
   "outputs": [],
   "source": [],
   "metadata": {
    "collapsed": false
   }
  }
 ],
 "metadata": {
  "kernelspec": {
   "display_name": "Python 3",
   "language": "python",
   "name": "python3"
  },
  "language_info": {
   "codemirror_mode": {
    "name": "ipython",
    "version": 2
   },
   "file_extension": ".py",
   "mimetype": "text/x-python",
   "name": "python",
   "nbconvert_exporter": "python",
   "pygments_lexer": "ipython2",
   "version": "2.7.6"
  }
 },
 "nbformat": 4,
 "nbformat_minor": 0
}
